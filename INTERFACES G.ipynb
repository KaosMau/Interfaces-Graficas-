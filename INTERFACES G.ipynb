{
  "nbformat": 4,
  "nbformat_minor": 0,
  "metadata": {
    "colab": {
      "provenance": []
    },
    "kernelspec": {
      "name": "python3",
      "display_name": "Python 3"
    },
    "language_info": {
      "name": "python"
    }
  },
  "cells": [
    {
      "cell_type": "code",
      "source": [
        "import pandas as pd\n"
      ],
      "metadata": {
        "id": "_l0fgCkbUu8c"
      },
      "execution_count": 6,
      "outputs": []
    },
    {
      "cell_type": "markdown",
      "source": [
        "Esto importa la biblioteca pandas, que es una herramienta poderosa para la manipulación y análisis de datos en Python. Se suele importar con el alias pd para facilitar su uso."
      ],
      "metadata": {
        "id": "rRSHynKIUzRg"
      }
    },
    {
      "cell_type": "code",
      "source": [
        "class Statistics:\n",
        "    def __init__(self, data):\n",
        "        self.data = data\n",
        "\n",
        "    def mean(self, column):\n",
        "        \"\"\"Calcula la media de la columna especificada.\"\"\"\n",
        "        return self.data[column].mean()\n",
        "\n",
        "    def standard_deviation(self, column):\n",
        "        \"\"\"Calcula la desviación estándar de la columna especificada.\"\"\"\n",
        "        return self.data[column].std()"
      ],
      "metadata": {
        "id": "Ujfm38OVVGFa"
      },
      "execution_count": 8,
      "outputs": []
    },
    {
      "cell_type": "markdown",
      "source": [
        "Define una clase llamada Statistics, que agrupará métodos relacionados con el cálculo de estadísticas."
      ],
      "metadata": {
        "id": "LtSMBYMBU8kt"
      }
    },
    {
      "cell_type": "markdown",
      "source": [
        "def __init__(self, data): Este es el método constructor de la clase, que se llama cuando se crea una nueva instancia de Statistics.\n"
      ],
      "metadata": {
        "id": "PLhuOHxmVVmU"
      }
    },
    {
      "cell_type": "code",
      "source": [
        "data = {\n",
        "    'estimated proxy size': [160,591,114,229,230,270,128,1657,624,1503],\n",
        "    'development hours': [15,69.9,6.5,22.4,28.4,65.9,19.4,198.7,38.8,138.2]\n",
        "}"
      ],
      "metadata": {
        "id": "K-ZBdly4VVBR"
      },
      "execution_count": 19,
      "outputs": []
    },
    {
      "cell_type": "markdown",
      "source": [
        "Se define un diccionario que contiene dos listas: una para \"estimated proxy size\" y otra para \"development hours\" y se dan los valores otorgados en las colunmas del ejercicio\n",
        "\n"
      ],
      "metadata": {
        "id": "Q-9v9x3JV8bz"
      }
    },
    {
      "cell_type": "code",
      "source": [
        "# Crear un DataFrame de pandas\n",
        "df = pd.DataFrame(data)\n",
        "\n",
        "# Crear una instancia de la clase Statistics\n",
        "stats = Statistics(df)"
      ],
      "metadata": {
        "id": "PTYjMHDmV7rR"
      },
      "execution_count": 20,
      "outputs": []
    },
    {
      "cell_type": "code",
      "source": [
        "# Calcular y mostrar la media y desviación estándar\n",
        "print(\"Media de 'estimated proxy size':\", stats.mean('estimated proxy size'))\n",
        "print(\"Desviación Estándar de 'estimated proxy size':\", stats.standard_deviation('estimated proxy size'))\n",
        "\n",
        "print(\"Media de 'development hours':\", stats.mean('development hours'))\n",
        "print(\"Desviación Estándar de 'development hours':\", stats.standard_deviation('development hours'))"
      ],
      "metadata": {
        "colab": {
          "base_uri": "https://localhost:8080/"
        },
        "id": "z6h8RGg_W8bR",
        "outputId": "5871b410-9feb-4cc4-fe44-b3fb7f0b9e50"
      },
      "execution_count": 21,
      "outputs": [
        {
          "output_type": "stream",
          "name": "stdout",
          "text": [
            "Media de 'estimated proxy size': 550.6\n",
            "Desviación Estándar de 'estimated proxy size': 572.026844746915\n",
            "Media de 'development hours': 60.32000000000001\n",
            "Desviación Estándar de 'development hours': 62.25583060601187\n"
          ]
        }
      ]
    },
    {
      "cell_type": "markdown",
      "source": [
        "RESULTADOS ESPERADOS!!!\n"
      ],
      "metadata": {
        "id": "63E0WNj_W2V-"
      }
    }
  ]
}