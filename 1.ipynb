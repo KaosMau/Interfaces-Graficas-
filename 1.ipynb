{
  "nbformat": 4,
  "nbformat_minor": 0,
  "metadata": {
    "colab": {
      "provenance": []
    },
    "kernelspec": {
      "name": "python3",
      "display_name": "Python 3"
    },
    "language_info": {
      "name": "python"
    }
  },
  "cells": [
    {
      "cell_type": "code",
      "source": [
        "import tkinter as tk\n",
        "from tkinter import Menu\n",
        "from tkinter import messagebox\n",
        "import time\n",
        "\n",
        "class Application:\n",
        "    def __init__(self, master):\n",
        "        self.master = master\n",
        "        self.master.title(\"Aplicación con Menú y Timer\")  # Cambiar el título de la ventana\n",
        "        self.master.geometry(\"400x200\")  # Cambiar el tamaño de la ventana\n",
        "\n",
        "        # Cambiar el icono de la ventana (asegúrate de tener un archivo icon.ico en el mismo directorio)\n",
        "        try:\n",
        "            self.master.iconbitmap(\"i.ico\")\n",
        "        except Exception as e:\n",
        "            print(\"No se pudo cargar el icono:\", e)\n",
        "\n",
        "        # Crear una etiqueta para mostrar la fecha y hora\n",
        "        self.label = tk.Label(self.master, text=\"Fecha y Hora\", font=(\"Helvetica\", 14))\n",
        "        self.label.pack(pady=50)\n",
        "\n",
        "        # Crear un menú\n",
        "        self.menu_bar = Menu(self.master)\n",
        "        self.master.config(menu=self.menu_bar)\n",
        "\n",
        "        # Crear un menú principal\n",
        "        self.file_menu = Menu(self.menu_bar, tearoff=0)\n",
        "        self.menu_bar.add_cascade(label=\"Archivo\", menu=self.file_menu)\n",
        "        self.file_menu.add_command(label=\"Salir\", command=self.master.quit)\n",
        "\n",
        "        # Crear un submenú\n",
        "        self.timer_menu = Menu(self.menu_bar, tearoff=0)\n",
        "        self.menu_bar.add_cascade(label=\"Herramientas\", menu=self.timer_menu)\n",
        "        self.timer_menu.add_command(label=\"Iniciar Timer\", command=self.start_timer)\n",
        "\n",
        "        # Propiedades del timer\n",
        "        self.timer = None\n",
        "        self.timer_running = False\n",
        "\n",
        "    def start_timer(self):\n",
        "        \"\"\"Inicia el temporizador para actualizar la etiqueta con la fecha y hora\"\"\"\n",
        "        if not self.timer_running:\n",
        "            self.timer_running = True\n",
        "            self.update_time()  # Comienza a actualizar la hora\n",
        "            self.label.config(text=\"Fecha y Hora: Actualizando...\")  # Cambia el texto\n",
        "        else:\n",
        "            messagebox.showinfo(\"Información\", \"El temporizador ya está en funcionamiento.\")\n",
        "\n",
        "    def update_time(self):\n",
        "        \"\"\"Actualiza la etiqueta con la fecha y hora actual cada segundo\"\"\"\n",
        "        if self.timer_running:\n",
        "            current_time = time.strftime(\"%Y-%m-%d %H:%M:%S\")\n",
        "            self.label.config(text=f\"Fecha y Hora: {current_time}\")\n",
        "            self.timer = self.master.after(1000, self.update_time)  # Llama a esta función cada 1000 ms (1 segundo)\n",
        "\n",
        "    def stop_timer(self):\n",
        "        \"\"\"Detiene el temporizador\"\"\"\n",
        "        if self.timer_running:\n",
        "            self.timer_running = False\n",
        "            if self.timer:\n",
        "                self.master.after_cancel(self.timer)  # Cancela el temporizador\n",
        "            self.label.config(text=\"Fecha y Hora: Detenido\")\n",
        "\n",
        "if __name__ == \"__main__\":\n",
        "    root = tk.Tk()\n",
        "    app = Application(master=root)\n",
        "    root.mainloop()\n"
      ],
      "metadata": {
        "id": "GXa7KQ3UB5cy"
      },
      "execution_count": null,
      "outputs": []
    }
  ]
}